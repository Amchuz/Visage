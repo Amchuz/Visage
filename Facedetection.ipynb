import cv2,time
face_cascade=cv2.CascadeClassifier('/usr/local/lib/python3.6/dist-packages/cv2/data/haarcascade_frontalface_default.xml') #The xml file is given. Download it and paste the link in this position.
video=cv2.VideoCapture(0)
while 1:
    ret,img = video.read()
    gray=cv2.cvtColor(img,cv2.COLOR_BGR2GRAY)
    faces=face_cascade.detectMultiScale(gray,1.05,5)
    for (x,y,w,h) in faces:
        cv2.rectangle(img,(x,y),(x+w,y+h),(255,255,0),2)
        roi_gray=gray[y:y+h,x:x+w]
        roi_color=img[y:y+h,x:x+w]
     
    
    cv2.imshow('img',img)
    k=cv2.waitKey(30)&0xff #Press Escape Key to close the camera.
    if k==27:
        break
        
video.release()

cv2.destroyAllWindows()
